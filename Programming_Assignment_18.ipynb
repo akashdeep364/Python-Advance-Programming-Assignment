{
 "cells": [
  {
   "cell_type": "markdown",
   "id": "a0ef6e16",
   "metadata": {},
   "source": [
    "# Programming_Assignment_18"
   ]
  },
  {
   "cell_type": "markdown",
   "id": "35cef74b",
   "metadata": {},
   "source": [
    "# 1. A robot has been given a list of movement instructions. Each instruction is either left, right, up or down, followed by a distance to move. The robot starts at [0, 0]. You want to calculate where the robot will end up and return its final position as a list.\n",
    "\n",
    "To illustrate, if the robot is given the following instructions:\n",
    "\n",
    "[\"right 10\", \"up 50\", \"left 30\", \"down 10\"]\n",
    "\n",
    "It will end up 20 left and 40 up from where it started, so we return [-20, 40].\n",
    "\n",
    "Examples\n",
    "\n",
    "track_robot([\"right 10\", \"up 50\", \"left 30\", \"down 10\"]) ➞ [-20, 40]\n",
    "\n",
    "track_robot([]) ➞ [0, 0]\n",
    "// If there are no instructions, the robot doesn't move.\n",
    "\n",
    "track_robot([\"right 100\", \"right 100\", \"up 500\", \"up 10000\"]) ➞ [200, 10500]\n",
    "\n"
   ]
  },
  {
   "cell_type": "code",
   "execution_count": 1,
   "id": "732b3c12",
   "metadata": {},
   "outputs": [
    {
     "name": "stdout",
     "output_type": "stream",
     "text": [
      "[-20, 40]\n",
      "[0, 0]\n",
      "[200, 10500]\n"
     ]
    }
   ],
   "source": [
    "def track_robot(l):\n",
    "    l1 = []\n",
    "    count_l =0\n",
    "    count_r =0\n",
    "    count_u =0\n",
    "    count_d =0\n",
    "    \n",
    "    for i in l:\n",
    "        if \"left\" in i:\n",
    "            count_l += int(i.split(' ')[1])\n",
    "        if \"right\" in i:\n",
    "            count_r += int(i.split(' ')[1])\n",
    "        if \"up\" in i:\n",
    "            count_u += int(i.split(' ')[1])\n",
    "        if \"down\" in i:\n",
    "            count_d += int(i.split(' ')[1])\n",
    "              \n",
    "    l1.append(count_r - count_l)\n",
    "    l1.append(count_u - count_d)\n",
    "    \n",
    "    return l1\n",
    "\n",
    "print(track_robot([\"right 10\", \"up 50\", \"left 30\", \"down 10\"]))\n",
    "print(track_robot([]))\n",
    "print(track_robot([\"right 100\", \"right 100\", \"up 500\", \"up 10000\"]) )\n",
    "\n"
   ]
  },
  {
   "cell_type": "markdown",
   "id": "e01ac8ed",
   "metadata": {},
   "source": [
    "# 2. Write a function that will return the longest word in a sentence. In cases where more than one word is found, return the first one.\n",
    "\n",
    "Examples\n",
    "\n",
    "find_longest(\"A thing of beauty is a joy forever.\") ➞ \"forever\"\n",
    "\n",
    "find_longest(\"Forgetfulness is by all means powerless!\") ➞ \"forgetfulness\"\n",
    "\n",
    "find_longest(\"\\\"Strengths\\\" is the longest and most commonly used word that contains only a single vowel.\") ➞ \"strengths\"\n"
   ]
  },
  {
   "cell_type": "code",
   "execution_count": 2,
   "id": "e55c4450",
   "metadata": {},
   "outputs": [
    {
     "name": "stdout",
     "output_type": "stream",
     "text": [
      "forever\n",
      "Forgetfulness\n",
      "\"Strengths\"\n"
     ]
    }
   ],
   "source": [
    "def find_longest(s):\n",
    "    longest = 0\n",
    "    for word in s.split():\n",
    "        if len(word) > longest:\n",
    "            longest = len(word)\n",
    "            longest_word = word   \n",
    "    return longest_word.strip('.')\n",
    "\n",
    "print(find_longest(\"A thing of beauty is a joy forever.\"))\n",
    "print(find_longest(\"Forgetfulness is by all means powerless!\")   )\n",
    "print(find_longest('\"Strengths\" is the longest and most commonly used word that contains only a single vowel.') )\n"
   ]
  },
  {
   "cell_type": "markdown",
   "id": "157da9cf",
   "metadata": {},
   "source": [
    "# 3. Create a function to check if a candidate is qualified in an imaginary coding interview of an imaginary tech startup.\n",
    "\n",
    "The criteria for a candidate to be qualified in the coding interview is:\n",
    "\n",
    "   1. The candidate should have complete all the questions.\n",
    "   2. The maximum time given to complete the interview is 120 minutes.\n",
    "   3. The maximum time given for very easy questions is 5 minutes each.\n",
    "   4. The maximum time given for easy questions is 10 minutes each.\n",
    "   5. The maximum time given for medium questions is 15 minutes each.\n",
    "   6. The maximum time given for hard questions is 20 minutes each.\n",
    "\n",
    "If all the above conditions are satisfied, return \"qualified\", else return \"disqualified\".\n",
    "\n",
    "You will be given a list of time taken by a candidate to solve a particular question and the total time taken by the candidate to complete the interview.\n",
    "\n",
    "Given a list , in a true condition will always be in the format [very easy, very easy, easy, easy, medium, medium, hard, hard].\n",
    "\n",
    "The maximum time to complete the interview includes a buffer time of 20 minutes.\n",
    "\n",
    "Examples\n",
    "\n",
    "interview([5, 5, 10, 10, 15, 15, 20, 20], 120) ➞ \"qualified\"\n",
    "\n",
    "interview([2, 3, 8, 6, 5, 12, 10, 18], 64) ➞  \"qualified\"\n",
    "\n",
    "interview([5, 5, 10, 10, 25, 15, 20, 20], 120) ➞ \"disqualified\"\n",
    "#Exceeded the time limit for a medium question.\n",
    "\n",
    "interview([5, 5, 10, 10, 15, 15, 20], 120) ➞ \"disqualified\"\n",
    "#Did not complete all the questions.\n",
    "\n",
    "interview([5, 5, 10, 10, 15, 15, 20, 20], 130) ➞ \"disqualified\"\n",
    "#Solved all the questions in their respected time limits but exceeded the total time limit of the interview.\n"
   ]
  },
  {
   "cell_type": "code",
   "execution_count": 3,
   "id": "414b85bc",
   "metadata": {},
   "outputs": [
    {
     "name": "stdout",
     "output_type": "stream",
     "text": [
      "qualified\n",
      "qualified\n",
      "disqualified\n",
      "disqualified\n",
      "disqualified\n"
     ]
    }
   ],
   "source": [
    "def interview(l,total_time):\n",
    "    if total_time <= 120 and len(l) == 8:\n",
    "        for i in l[0:2]:\n",
    "            if i > 5:\n",
    "                return \"disqualified\"\n",
    "        for i in l[2:4]:\n",
    "            if i > 10:\n",
    "                return \"disqualified\"\n",
    "        for i in l[4:6]:\n",
    "            if i > 15:\n",
    "                return \"disqualified\"\n",
    "        for i in l[6:8]:\n",
    "            if i > 20:\n",
    "                return \"disqualified\"\n",
    "    else:\n",
    "        return \"disqualified\"\n",
    "    \n",
    "    return 'qualified'\n",
    "\n",
    "print(interview([5, 5, 10, 10, 15, 15, 20, 20], 120) )\n",
    "print(interview([2, 3, 8, 6, 5, 12, 10, 18], 64) )\n",
    "print(interview([5, 5, 10, 10, 25, 15, 20, 20], 120) )\n",
    "print(interview([5, 5, 10, 10, 15, 15, 20], 120))\n",
    "print(interview([5, 5, 10, 10, 15, 15, 20, 20], 130) )"
   ]
  },
  {
   "cell_type": "markdown",
   "id": "3f9ed9ee",
   "metadata": {},
   "source": [
    "# 4. Write a function that divides a list into chunks of size n, where n is the length of each chunk.\n",
    "\n",
    "Examples\n",
    "\n",
    "chunkify([2, 3, 4, 5], 2) ➞ [[2, 3], [4, 5]]\n",
    "\n",
    "chunkify([2, 3, 4, 5, 6], 2) ➞ [[2, 3], [4, 5], [6]]\n",
    "\n",
    "chunkify([2, 3, 4, 5, 6, 7], 3) ➞ [[2, 3, 4], [5, 6, 7]]\n",
    "\n",
    "chunkify([2, 3, 4, 5, 6, 7], 1) ➞ [[2], [3], [4], [5], [6], [7]]\n",
    "\n",
    "chunkify([2, 3, 4, 5, 6, 7], 7) ➞ [[2, 3, 4, 5, 6, 7]]"
   ]
  },
  {
   "cell_type": "code",
   "execution_count": 18,
   "id": "e39ebf34",
   "metadata": {},
   "outputs": [
    {
     "name": "stdout",
     "output_type": "stream",
     "text": [
      "[[2, 3], [4, 5]]\n",
      "[[2, 3], [4, 5], [6]]\n",
      "[[2, 3, 4], [5, 6, 7]]\n",
      "[[2], [3], [4], [5], [6], [7]]\n",
      "[[2, 3, 4, 5, 6, 7]]\n"
     ]
    }
   ],
   "source": [
    "def chunkify(lst, size):\n",
    "  return [lst[i:i + size] for i in range(0,len(lst),size)]\n",
    "\n",
    "print(chunkify([2, 3, 4, 5], 2))\n",
    "print(chunkify([2, 3, 4, 5, 6], 2))\n",
    "print(chunkify([2, 3, 4, 5, 6, 7], 3))\n",
    "print(chunkify([2, 3, 4, 5, 6, 7], 1))\n",
    "print(chunkify([2, 3, 4, 5, 6, 7], 7))\n"
   ]
  },
  {
   "cell_type": "markdown",
   "id": "867c3670",
   "metadata": {},
   "source": [
    "# 5. You are given a list of strings consisting of grocery items, with prices in\n",
    "parentheses. Return a list of prices in float format.\n",
    "\n",
    "Examples\n",
    "get_prices([&quot;salad ($4.99)&quot;]) ➞ [4.99]\n",
    "get_prices([\n",
    "&quot;artichokes ($1.99)&quot;,\n",
    "&quot;rotiserrie chicken ($5.99)&quot;,\n",
    "&quot;gum ($0.75)&quot;\n",
    "])\n",
    "➞ [1.99, 5.99, 0.75]\n",
    "get_prices([\n",
    "&quot;ice cream ($5.99)&quot;,\n",
    "&quot;banana ($0.20)&quot;,\n",
    "&quot;sandwich ($8.50)&quot;,\n",
    "&quot;soup ($1.99)&quot;\n",
    "])\n",
    "➞ [5.99, 0.2, 8.50, 1.99]"
   ]
  },
  {
   "cell_type": "code",
   "execution_count": 19,
   "id": "b22056f1",
   "metadata": {},
   "outputs": [
    {
     "name": "stdout",
     "output_type": "stream",
     "text": [
      "[1.99, 5.99, 0.75]\n",
      "[5.99, 0.2, 8.5, 1.99]\n",
      "[4.99]\n"
     ]
    }
   ],
   "source": [
    "def get_prices(l):\n",
    "    l1 = []\n",
    "    for i in l:\n",
    "        l1.append(i.split(' ')[-1].replace('($', '').replace(')',''))\n",
    "    return list(map(float,l1))\n",
    "\n",
    "print(get_prices(l = [\n",
    "  \"artichokes ($1.99)\",\n",
    "  \"rotiserrie chicken ($5.99)\",\n",
    "  \"gum ($0.75)\"\n",
    "]))\n",
    "\n",
    "print(get_prices([\n",
    "  \"ice cream ($5.99)\",\n",
    "  \"banana ($0.20)\",\n",
    "  \"sandwich ($8.50)\",\n",
    "  \"soup ($1.99)\"\n",
    "])\n",
    ")\n",
    "print(get_prices([\"salad ($4.99)\"]))"
   ]
  }
 ],
 "metadata": {
  "kernelspec": {
   "display_name": "Python 3",
   "language": "python",
   "name": "python3"
  },
  "language_info": {
   "codemirror_mode": {
    "name": "ipython",
    "version": 3
   },
   "file_extension": ".py",
   "mimetype": "text/x-python",
   "name": "python",
   "nbconvert_exporter": "python",
   "pygments_lexer": "ipython3",
   "version": "3.8.8"
  }
 },
 "nbformat": 4,
 "nbformat_minor": 5
}
