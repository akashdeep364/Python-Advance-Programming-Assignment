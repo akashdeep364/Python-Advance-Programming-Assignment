{
 "cells": [
  {
   "cell_type": "markdown",
   "id": "872df153",
   "metadata": {},
   "source": [
    "# Programming_Assignment_9"
   ]
  },
  {
   "cell_type": "markdown",
   "id": "34591351",
   "metadata": {},
   "source": [
    "# 1. YouTube offers different playback speed options for users. This allows users to increase or decrease the speed of the video content. Given the actual duration and playback speed of the video, calculate the playback duration of the video.\n",
    "\n",
    "Examples\n",
    "\n",
    "playback_duration(\"00:30:00\", 2) ➞ \"00:15:00\"\n",
    "\n",
    "playback_duration(\"01:20:00\", 1.5) ➞ \"00:53:20\"\n",
    "\n",
    "playback_duration(\"51:20:09\", 0.5) ➞ \"102:40:18\"\n"
   ]
  },
  {
   "cell_type": "code",
   "execution_count": 1,
   "id": "9f75fd20",
   "metadata": {},
   "outputs": [
    {
     "name": "stdout",
     "output_type": "stream",
     "text": [
      "00:15:00\n",
      "00:53:20\n",
      "102:40:18\n"
     ]
    }
   ],
   "source": [
    "import math\n",
    "import datetime\n",
    "\n",
    "def conversion(time):\n",
    "    day = time // (24 * 3600)\n",
    "    time = time % (24 * 3600)\n",
    "    hour = time // 3600\n",
    "    if day > 1:\n",
    "        hour = (day * 24) +hour\n",
    "    time %= 3600\n",
    "    minutes = time // 60\n",
    "    time %= 60\n",
    "    seconds = time\n",
    "    return \"%02d:%02d:%02d\" % ( hour, minutes, seconds)\n",
    "\n",
    "def playback_duration(time, speed):\n",
    "    time = time.split(':')\n",
    "    hours = int(time[0])\n",
    "    minutes = int(time[1])\n",
    "    seconds = int(time[2])\n",
    "\n",
    "    total_seconds = hours * 3600 + minutes * 60 + seconds\n",
    "    total_seconds = total_seconds/ speed\n",
    "    return conversion(total_seconds)\n",
    "\n",
    "print(playback_duration(\"00:30:00\", 2))\n",
    "print(playback_duration(\"01:20:00\", 1.5))\n",
    "print(playback_duration(\"51:20:09\", 0.5))\n",
    "\n"
   ]
  },
  {
   "cell_type": "markdown",
   "id": "c3b3a6ea",
   "metadata": {},
   "source": [
    "# 2. We needs your help to construct a building which will be a pile of n cubes. The cube at the bottom will have a volume of n^3, the cube above will have volume of (n-1)^3 and so on until the top which will have a volume of 1^3.\n",
    "\n",
    "Given the total volume m of the building, can you find the number of cubes n required for the building?\n",
    "\n",
    "In other words, you have to return an integer n such that:\n",
    "\n",
    "n^3 + (n-1)^3 + ... + 1^3 == m\n",
    "\n",
    "Return None if there is no such number.\n",
    "\n",
    "Examples\n",
    "\n",
    "pile_of_cubes(1071225) ➞ 45\n",
    "\n",
    "pile_of_cubes(4183059834009) ➞ 2022\n",
    "\n",
    "pile_of_cubes(16) ➞ None\n"
   ]
  },
  {
   "cell_type": "code",
   "execution_count": 2,
   "id": "51b3bbfb",
   "metadata": {},
   "outputs": [
    {
     "name": "stdout",
     "output_type": "stream",
     "text": [
      "45\n",
      "2022\n",
      "None\n"
     ]
    }
   ],
   "source": [
    "def pile_of_cubes(m):\n",
    "    i = 0\n",
    "    sum1 = 0\n",
    "    \n",
    "    while True:\n",
    "        sum1 = sum1 + (i)**3\n",
    "        if sum1 == m:\n",
    "            break\n",
    "        elif sum1 > m:\n",
    "            return \"None\"\n",
    "        i += 1\n",
    "        \n",
    "    return i\n",
    "\n",
    "print(pile_of_cubes(1071225))\n",
    "print(pile_of_cubes(4183059834009))\n",
    "print(pile_of_cubes(16))\n"
   ]
  },
  {
   "cell_type": "markdown",
   "id": "572e61a6",
   "metadata": {},
   "source": [
    "# 3. A fulcrum of a list is an integer such that all elements to the left of it and all elements to the right of it sum to the same value. Write a function that finds the fulcrum of a list.\n",
    "\n",
    "To illustrate:\n",
    "\n",
    "find_fulcrum([3, 1, 5, 2, 4, 6, -1]) ➞ 2\n",
    "// Since [3, 1, 5] and [4, 6, -1] both sum to 9\n",
    "\n",
    "Examples\n",
    "\n",
    "find_fulcrum([1, 2, 4, 9, 10, -10, -9, 3]) ➞ 4\n",
    "\n",
    "find_fulcrum([9, 1, 9]) ➞ 1\n",
    "\n",
    "find_fulcrum([7, -1, 0, -1, 1, 1, 2, 3]) ➞ 0\n",
    "\n",
    "find_fulcrum([8, 8, 8, 8]) ➞ -1\n"
   ]
  },
  {
   "cell_type": "code",
   "execution_count": 8,
   "id": "92ebafea",
   "metadata": {},
   "outputs": [
    {
     "name": "stdout",
     "output_type": "stream",
     "text": [
      "4\n",
      "1\n",
      "0\n",
      "None\n"
     ]
    }
   ],
   "source": [
    "def find_fulcrum(l):\n",
    "    for i in range(1,len(l)):\n",
    "        if sum(l[:i]) == sum(l[i+1:]):\n",
    "            return l[i]\n",
    "        \n",
    "            \n",
    "        \n",
    "        \n",
    "print(find_fulcrum([1, 2, 4, 9, 10, -10, -9, 3]))        \n",
    "print(find_fulcrum([9,1,9]))\n",
    "print(find_fulcrum([7, -1, 0, -1, 1, 1, 2, 3]))\n",
    "print(find_fulcrum([8, 8, 8, 8]))"
   ]
  },
  {
   "cell_type": "markdown",
   "id": "1b08cd83",
   "metadata": {},
   "source": [
    "# 4. Given a list of integers representing the color of each sock, determine how many pairs of socks with matching colors there are. For example, there are 7 socks with colors [1, 2, 1, 2, 1, 3, 2]. There is one pair of color 1 and one of color 2. There are three odd socks left, one of each color. The number of pairs is 2.\n",
    "\n",
    "Create a function that returns an integer representing the number of matching pairs of socks that are available.\n",
    "\n",
    "Examples\n",
    "\n",
    "sock_merchant([10, 20, 20, 10, 10, 30, 50, 10, 20]) ➞ 3\n",
    "\n",
    "sock_merchant([50, 20, 30, 90, 30, 20, 50, 20, 90]) ➞ 4\n",
    "\n",
    "sock_merchant([]) ➞ 0"
   ]
  },
  {
   "cell_type": "code",
   "execution_count": 9,
   "id": "72ce9a5c",
   "metadata": {},
   "outputs": [
    {
     "name": "stdout",
     "output_type": "stream",
     "text": [
      "3\n",
      "4\n",
      "0\n"
     ]
    }
   ],
   "source": [
    "def sock_merchant(l):\n",
    "    count = 0\n",
    "    l1 = list(set(l))\n",
    "    for i in l1:\n",
    "        count += (l.count(i) // 2)\n",
    "\n",
    "    return count     \n",
    "\n",
    "print(sock_merchant([10, 20, 20, 10, 10, 30, 50, 10, 20]))\n",
    "print(sock_merchant([50, 20, 30, 90, 30, 20, 50, 20, 90]))\n",
    "print(sock_merchant([]))"
   ]
  },
  {
   "cell_type": "markdown",
   "id": "3ed49bae",
   "metadata": {},
   "source": [
    "# 5. Create a function that takes a string containing integers as well as other characters and return the sum of the negative integers only.\n",
    "\n",
    "Examples\n",
    "\n",
    "negative_sum(\"-12 13%14&-11\") ➞ -23\n",
    "#-12 + -11 = -23\n",
    "\n",
    "negative_sum(\"22 13%14&-11-22 13 12\") ➞ -33\n",
    "#-11 + -22 = -33"
   ]
  },
  {
   "cell_type": "code",
   "execution_count": 10,
   "id": "ed5c0a55",
   "metadata": {},
   "outputs": [
    {
     "name": "stdout",
     "output_type": "stream",
     "text": [
      "-23\n",
      "-33\n"
     ]
    }
   ],
   "source": [
    "def negative_sum(s):\n",
    "    l = s.split('-')\n",
    "    res = 0\n",
    "    for i in range(1,len(l)):\n",
    "        l[i] = l[i].split()\n",
    "        res += int(l[i][0])\n",
    "\n",
    "    return -res\n",
    "\n",
    "print(negative_sum(\"-12 13%14&-11\"))\n",
    "print(negative_sum(\"22 13%14&-11-22 13 12\"))"
   ]
  }
 ],
 "metadata": {
  "kernelspec": {
   "display_name": "Python 3",
   "language": "python",
   "name": "python3"
  },
  "language_info": {
   "codemirror_mode": {
    "name": "ipython",
    "version": 3
   },
   "file_extension": ".py",
   "mimetype": "text/x-python",
   "name": "python",
   "nbconvert_exporter": "python",
   "pygments_lexer": "ipython3",
   "version": "3.8.8"
  }
 },
 "nbformat": 4,
 "nbformat_minor": 5
}
