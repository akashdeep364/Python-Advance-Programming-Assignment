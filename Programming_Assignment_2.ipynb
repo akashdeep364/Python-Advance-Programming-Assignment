{
 "cells": [
  {
   "cell_type": "markdown",
   "id": "53f9dc1f",
   "metadata": {},
   "source": [
    "# Programming_Assignment_2"
   ]
  },
  {
   "cell_type": "markdown",
   "id": "b577a717",
   "metadata": {},
   "source": [
    "# 1. Write a function that takes a positive integer num and calculates how many dots exist in a pentagonal shape around the center dot on the Nth iteration.\n",
    "\n",
    "In the image below you can see the first iteration is only a single dot. On the second, there are 6 dots. On the third, there are 16 dots, and on the fourth there are 31 dots.\n",
    "\n",
    "![image.png](attachment:image.png)\n",
    "\n",
    "Return the number of dots that exist in the whole pentagon on the Nth iteration.\n",
    "\n",
    "Examples\n",
    "\n",
    "pentagonal(1) ➞ 1\n",
    "\n",
    "pentagonal(2) ➞ 6\n",
    "\n",
    "pentagonal(3) ➞ 16\n",
    "\n",
    "pentagonal(8) ➞ 141\n"
   ]
  },
  {
   "cell_type": "code",
   "execution_count": 1,
   "id": "18b36565",
   "metadata": {},
   "outputs": [
    {
     "name": "stdout",
     "output_type": "stream",
     "text": [
      "Enter integer::11\n",
      "Number of dots around the center on 11th iteration are:: 276\n"
     ]
    }
   ],
   "source": [
    "# Centered pentagonal for n-th term is given by : Cp{n}=(5n^2-5n+2)/2\n",
    "\n",
    "def pentagonal(n):\n",
    "    return int((5 * n**2 - 5 * n + 2) /2)\n",
    "\n",
    "n = int(input(\"Enter integer::\"))\n",
    "print(f\"Number of dots around the center on {n}th iteration are::\",pentagonal(n))"
   ]
  },
  {
   "cell_type": "markdown",
   "id": "86f2944f",
   "metadata": {},
   "source": [
    "# 2.  Make a function that encrypts a given input with these steps:\n",
    "\n",
    "Input: \"apple\"\n",
    "\n",
    "Step 1: Reverse the input: \"elppa\"\n",
    "\n",
    "Step 2: Replace all vowels using the following chart:\n",
    "\n",
    "a => 0\n",
    "e => 1\n",
    "i => 2\n",
    "o => 2\n",
    "u => 3\n",
    "\n",
    "\"1lpp0\"\n",
    "\n",
    "Step 3: Add \"aca\" to the end of the word: \"1lpp0aca\"\n",
    "\n",
    "Output: \"1lpp0aca\"\n",
    "\n",
    "Examples\n",
    "\n",
    "encrypt(\"banana\") ➞ \"0n0n0baca\"\n",
    "\n",
    "encrypt(\"karaca\") ➞ \"0c0r0kaca\"\n",
    "\n",
    "encrypt(\"burak\") ➞ \"k0r3baca\"\n",
    "\n",
    "encrypt(\"alpaca\") ➞ \"0c0pl0aca\"\n"
   ]
  },
  {
   "cell_type": "code",
   "execution_count": 2,
   "id": "0bf0155c",
   "metadata": {},
   "outputs": [
    {
     "name": "stdout",
     "output_type": "stream",
     "text": [
      "0n0n0baca\n",
      "0c0r0kaca\n",
      "karubaca\n",
      "0c0pl0aca\n"
     ]
    }
   ],
   "source": [
    "def encrypt(s):\n",
    "    d = {\"a\": 0 ,\"e\": 1,\"i\" : 2,\"o\" : 2, \"u\" : 3}\n",
    "    \n",
    "    s = s[::-1]\n",
    "    \n",
    "    for letter in s:\n",
    "        if letter in d.keys():\n",
    "            s = s.replace(letter,str(d[letter]))\n",
    "        return s + 'aca'\n",
    "    \n",
    "print(encrypt(\"banana\"))\n",
    "print(encrypt(\"karaca\"))\n",
    "print(encrypt(\"burak\"))\n",
    "print(encrypt(\"alpaca\"))"
   ]
  },
  {
   "cell_type": "markdown",
   "id": "9b15535d",
   "metadata": {},
   "source": [
    "# 3. Given the month and year as numbers, return whether that month contains a Friday 13th.(i.e You can check Python's datetime module)\n",
    "\n",
    "Examples\n",
    "\n",
    "has_friday_13(3, 2020) ➞ True\n",
    "\n",
    "has_friday_13(10, 2017) ➞ True\n",
    "\n",
    "has_friday_13(1, 1985) ➞ False\n",
    "\n"
   ]
  },
  {
   "cell_type": "code",
   "execution_count": 3,
   "id": "9a0edf7a",
   "metadata": {},
   "outputs": [
    {
     "name": "stdout",
     "output_type": "stream",
     "text": [
      "True\n",
      "True\n",
      "False\n"
     ]
    }
   ],
   "source": [
    "import calendar\n",
    "\n",
    "def has_friday_13(month,year):\n",
    "    c = calendar.Calendar(firstweekday=calendar.SUNDAY)\n",
    "\n",
    "    monthcal = c.monthdatescalendar(year,month)\n",
    "\n",
    "    for week in monthcal:\n",
    "        for day in week:\n",
    "            if day.weekday() == calendar.FRIDAY and day.month == month and day.day == 13:\n",
    "                return True\n",
    "    return False\n",
    "\n",
    "print(has_friday_13(3, 2020))\n",
    "\n",
    "print(has_friday_13(10, 2017))\n",
    "\n",
    "print(has_friday_13(1, 1985))"
   ]
  },
  {
   "cell_type": "markdown",
   "id": "d72a0022",
   "metadata": {},
   "source": [
    "# 4. Write a regular expression that will help us count how many bad cookies are produced every day. You must use RegEx negative lookbehind.\n",
    "\n",
    "Example\n",
    "\n",
    "lst = [\"bad cookie\", \"good cookie\", \"bad cookie\", \"good cookie\", \"good cookie\"]\n",
    "\n",
    "pattern = \"yourregularexpressionhere\"\n",
    "\n",
    "len(re.findall(pattern, \", \".join(lst))) ➞ 2\n"
   ]
  },
  {
   "cell_type": "code",
   "execution_count": 4,
   "id": "43d13a40",
   "metadata": {},
   "outputs": [
    {
     "data": {
      "text/plain": [
       "2"
      ]
     },
     "execution_count": 4,
     "metadata": {},
     "output_type": "execute_result"
    }
   ],
   "source": [
    "import re\n",
    "\n",
    "lst = [\"bad cookie\", \"good cookie\", \"bad cookie\", \"good cookie\", \"good cookie\"]\n",
    "\n",
    "pattern = r\"(?<!good )cookie\"\n",
    "\n",
    "len(re.findall(pattern, \", \".join(lst)))"
   ]
  },
  {
   "cell_type": "markdown",
   "id": "ac3cc35d",
   "metadata": {},
   "source": [
    "# 5. Given a list of words in the singular form, return a set of those words in the plural form if they appear more than once in the list.\n",
    "\n",
    "Examples\n",
    "\n",
    "pluralize([\"cow\", \"pig\", \"cow\", \"cow\"]) ➞ { \"cows\", \"pig\" }\n",
    "\n",
    "pluralize([\"table\", \"table\", \"table\"]) ➞ { \"tables\" }\n",
    "\n",
    "pluralize([\"chair\", \"pencil\", \"arm\"]) ➞ { \"chair\", \"pencil\", \"arm\" }\n"
   ]
  },
  {
   "cell_type": "code",
   "execution_count": 5,
   "id": "68fedf8e",
   "metadata": {},
   "outputs": [
    {
     "name": "stdout",
     "output_type": "stream",
     "text": [
      "{'pig', 'cows'}\n",
      "{'tables'}\n",
      "{'chair', 'arm', 'pencil'}\n"
     ]
    }
   ],
   "source": [
    "def pluralize(l):\n",
    "    s = set()\n",
    "    \n",
    "    for item in l:\n",
    "        if l.count(item) > 1:\n",
    "            s.add(item + 's')\n",
    "        else:\n",
    "            s.add(item)        \n",
    "    return s    \n",
    "        \n",
    "print(pluralize([\"cow\", \"pig\", \"cow\", \"cow\"]))    \n",
    "\n",
    "print(pluralize([\"table\", \"table\", \"table\"]))\n",
    "\n",
    "print(pluralize([\"chair\", \"pencil\", \"arm\"])) # set is an unordered collection of elements, that is why elemnts appear in random order"
   ]
  }
 ],
 "metadata": {
  "kernelspec": {
   "display_name": "Python 3",
   "language": "python",
   "name": "python3"
  },
  "language_info": {
   "codemirror_mode": {
    "name": "ipython",
    "version": 3
   },
   "file_extension": ".py",
   "mimetype": "text/x-python",
   "name": "python",
   "nbconvert_exporter": "python",
   "pygments_lexer": "ipython3",
   "version": "3.8.8"
  }
 },
 "nbformat": 4,
 "nbformat_minor": 5
}
