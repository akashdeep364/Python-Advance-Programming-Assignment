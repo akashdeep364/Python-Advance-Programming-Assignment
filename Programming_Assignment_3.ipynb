{
 "cells": [
  {
   "cell_type": "markdown",
   "id": "06836347",
   "metadata": {},
   "source": [
    "# Programming_Assignment_3"
   ]
  },
  {
   "cell_type": "markdown",
   "id": "c31192b2",
   "metadata": {},
   "source": [
    "# 1. Create a function to perform basic arithmetic operations that includes addition, subtraction, multiplication and division on a string number (e.g. \"12 + 24\" or \"23 - 21\" or \"12 // 12\" or \"12 * 21\").\n",
    "\n",
    "Here, we have 1 followed by a space, operator followed by another space and 2. For the challenge, we are going to have only two numbers between 1 valid operator. The return value should be a number.\n",
    "eval() is not allowed. In case of division, whenever the second number equals \"0\" return -1.\n",
    "\n",
    "For example:\n",
    "\n",
    "\"15 // 0\"  ➞ -1\n",
    "\n",
    "Examples\n",
    "\n",
    "arithmetic_operation(\"12 + 12\") ➞ 24 // 12 + 12 = 24\n",
    "\n",
    "arithmetic_operation(\"12 - 12\") ➞ 24 // 12 - 12 = 0\n",
    "\n",
    "arithmetic_operation(\"12 * 12\") ➞ 144 // 12 * 12 = 144\n",
    "\n",
    "arithmetic_operation(\"12 // 0\") ➞ -1 // 12 / 0 = -1\n"
   ]
  },
  {
   "cell_type": "code",
   "execution_count": 1,
   "id": "e9a34fbd",
   "metadata": {},
   "outputs": [
    {
     "name": "stdout",
     "output_type": "stream",
     "text": [
      "24\n",
      "0\n",
      "144\n",
      "1.0\n",
      "-1\n"
     ]
    }
   ],
   "source": [
    "def arithmetic_operation(s):\n",
    "    l = s.split()\n",
    "    l1 = list(map(int,l[0:3:2]))\n",
    "    if l[1] == '+':\n",
    "         return l1[0] + l1[1]\n",
    "    elif l[1] == '-':\n",
    "         return l1[0] - l1[1]\n",
    "    elif l[1] == '*':\n",
    "         return l1[0] * l1[1]\n",
    "    else:\n",
    "        if l1[1] == 0:\n",
    "            return -1\n",
    "        else:\n",
    "            return l1[0] / l1[1]\n",
    "            \n",
    "\n",
    "print(arithmetic_operation(\"12 + 12\"))\n",
    "print(arithmetic_operation(\"12 - 12\"))\n",
    "print(arithmetic_operation(\"12 * 12\"))\n",
    "print(arithmetic_operation(\"12 / 12\"))\n",
    "print(arithmetic_operation(\"12 / 0\"))\n"
   ]
  },
  {
   "cell_type": "markdown",
   "id": "cca6190a",
   "metadata": {},
   "source": [
    "# 2. Write a function that takes the coordinates of three points in the form of a 2d array and returns the perimeter of the triangle. The given points are the vertices of a triangle on a two-dimensional plane.\n",
    "\n",
    "Examples\n",
    "\n",
    "perimeter( [ [15, 7], [5, 22], [11, 1] ] ) ➞ 47.08\n",
    "\n",
    "perimeter( [ [0, 0], [0, 1], [1, 0] ] ) ➞ 3.42\n",
    "\n",
    "perimeter( [ [-10, -10], [10, 10 ], [-10, 10] ] ) ➞ 68.28\n"
   ]
  },
  {
   "cell_type": "code",
   "execution_count": 9,
   "id": "eb59f8a6",
   "metadata": {},
   "outputs": [
    {
     "name": "stdout",
     "output_type": "stream",
     "text": [
      "47.08\n",
      "3.41\n",
      "68.28\n"
     ]
    }
   ],
   "source": [
    "import math\n",
    "def distance(xA,yA,xB,yB):\n",
    "    return math.sqrt((xA-xB)*(xA-xB)+(yA-yB)*(yA-yB))\n",
    "\n",
    "def perimeter(l):\n",
    "    return round(distance(l[0][0],l[0][1],l[1][0],l[1][1])+distance(l[0][0],l[0][1],l[2][0],l[2][1])+distance(l[2][0],l[2][1],l[1][0],l[1][1]),2)\n",
    "\n",
    "print(perimeter( [ [15, 7], [5, 22], [11, 1] ] ))\n",
    "print(perimeter(  [ [0, 0], [0, 1], [1, 0] ] ))\n",
    "print(perimeter([[-10, -10],[10, 10 ],[-10, 10]]))\n",
    "\n"
   ]
  },
  {
   "cell_type": "markdown",
   "id": "0ad815e7",
   "metadata": {},
   "source": [
    "# 3. A city skyline can be represented as a 2-D list with 1s representing buildings. In the example below, the height of the tallest building is 4 (second-most right column).\n",
    "\n",
    "[[0, 0, 0, 0, 0, 0],\n",
    "[0, 0, 0, 0, 1, 0],\n",
    "[0, 0, 1, 0, 1, 0],\n",
    "[0, 1, 1, 1, 1, 0],\n",
    "[1, 1, 1, 1, 1, 1]]\n",
    "\n",
    "Create a function that takes a skyline (2-D list of 0's and 1's) and returns the height of the tallest skyscraper.\n",
    "\n",
    "Examples\n",
    "\n",
    "tallest_skyscraper([\n",
    "  [0, 0, 0, 0],\n",
    "  [0, 1, 0, 0],\n",
    "  [0, 1, 1, 0],\n",
    "  [1, 1, 1, 1]\n",
    "]) ➞ 3\n",
    "\n",
    "tallest_skyscraper([\n",
    "  [0, 1, 0, 0],\n",
    "  [0, 1, 0, 0],\n",
    "  [0, 1, 1, 0],\n",
    "  [1, 1, 1, 1]\n",
    "]) ➞ 4\n",
    "\n",
    "tallest_skyscraper([\n",
    "  [0, 0, 0, 0],\n",
    "  [0, 0, 0, 0],\n",
    "  [1, 1, 1, 0],\n",
    "  [1, 1, 1, 1]\n",
    "]) ➞ 2\n",
    "\n"
   ]
  },
  {
   "cell_type": "code",
   "execution_count": 7,
   "id": "5bbe6341",
   "metadata": {},
   "outputs": [
    {
     "name": "stdout",
     "output_type": "stream",
     "text": [
      "3\n",
      "4\n",
      "2\n"
     ]
    }
   ],
   "source": [
    "import numpy as np\n",
    "\n",
    "def tallest_skyscraper(l):\n",
    "    arr = np.array(l)\n",
    "    height =[]\n",
    "    for i in range(len(arr)):\n",
    "        height.append((arr[:,i] == 1).sum())\n",
    "    \n",
    "    return max(height)\n",
    "print(tallest_skyscraper([ [0, 0, 0, 0], [0, 1, 0, 0], [0, 1, 1, 0], [1, 1, 1, 1] ]))\n",
    "print(tallest_skyscraper([ [0, 1, 0, 0], [0, 1, 0, 0], [0, 1, 1, 0], [1, 1, 1, 1] ]))\n",
    "\n",
    "print(tallest_skyscraper([\n",
    "  [0, 0, 0, 0],\n",
    "  [0, 0, 0, 0],\n",
    "  [1, 1, 1, 0],\n",
    "  [1, 1, 1, 1]\n",
    "]))\n",
    "\n"
   ]
  },
  {
   "cell_type": "markdown",
   "id": "02dc3134",
   "metadata": {},
   "source": [
    "# 4. A financial institution provides professional services to banks and claims charges from the customers based on the number of man-days provided. Internally, it has set a scheme to motivate and reward staff to meet and exceed targeted billable utilization and revenues by paying a bonus for each day claimed from customers in excess of a threshold target.\n",
    "\n",
    "This quarterly scheme is calculated with a threshold target of 32 days per quarter, and the incentive payment for each billable day in excess of such threshold target is shown as follows:\n",
    "\n",
    "Days\t                             Bonus\n",
    "\n",
    "0 to 32 days\t                   Zero\n",
    "\n",
    "33 to 40 days\t         SGD$325 per billable day\n",
    "\n",
    "41 to 48 days\t         SGD$550 per billable day\n",
    "\n",
    "Greater than 48 days      SGD$600 per billable day\n",
    "\n",
    "Please note that incentive payment is calculated progressively. As an example, if an employee reached total billable days of 45 in a quarter, his/her incentive payment is computed as follows:\n",
    "\n",
    "32 * 0 + 8 * 325 + 5 * 550 = 5350\n",
    "\n",
    "Write a function to read the billable days of an employee and return the bonus he/she has obtained in that quarter.\n",
    "\n",
    "Examples\n",
    "\n",
    "bonus(15) ➞ 0\n",
    "\n",
    "bonus(37) ➞ 1625\n",
    "\n",
    "bonus(50) ➞ 8200\n"
   ]
  },
  {
   "cell_type": "code",
   "execution_count": 10,
   "id": "1e8ffc7f",
   "metadata": {},
   "outputs": [
    {
     "name": "stdout",
     "output_type": "stream",
     "text": [
      "0\n",
      "1625\n",
      "8200\n"
     ]
    }
   ],
   "source": [
    "def bonus(days):\n",
    "    if days < 32:\n",
    "        return 0\n",
    "    \n",
    "    elif days > 32 and days < 41:\n",
    "        return (days-32) * 325\n",
    "    \n",
    "    elif days > 40 and days < 49:\n",
    "        return 8 * 325 + (days - 40) * 550\n",
    "    \n",
    "    elif days > 48:\n",
    "        return 8 * 325 + 8 * 550 + (days - 48) * 600\n",
    "    \n",
    "print(bonus(15))\n",
    "print(bonus(37))\n",
    "print(bonus(50))    "
   ]
  },
  {
   "cell_type": "markdown",
   "id": "a22b63c1",
   "metadata": {},
   "source": [
    "# 5. A number is said to be Disarium if the sum of its digits raised to their respective positions is the number itself.\n",
    "\n",
    "Create a function that determines whether a number is a Disarium or not.\n",
    "\n",
    "Examples\n",
    "\n",
    "is_disarium(75) ➞ False\n",
    "7^1 + 5^2 = 7 + 25 = 32\n",
    "\n",
    "is_disarium(135) ➞ True\n",
    "1^1 + 3^2 + 5^3 = 1 + 9 + 125 = 135\n",
    "\n",
    "is_disarium(544) ➞ False\n",
    "\n",
    "is_disarium(518) ➞ True\n",
    "\n",
    "is_disarium(466) ➞ False\n",
    "\n",
    "is_disarium(8) ➞ True\n"
   ]
  },
  {
   "cell_type": "code",
   "execution_count": 13,
   "id": "274e032b",
   "metadata": {},
   "outputs": [
    {
     "name": "stdout",
     "output_type": "stream",
     "text": [
      "False\n",
      "True\n",
      "False\n",
      "True\n",
      "False\n",
      "True\n"
     ]
    }
   ],
   "source": [
    "def is_disarium(n):\n",
    "    sum1 = 0 \n",
    "    l = list(map(int,str(n)))\n",
    "    for i in range(0,len(l)):\n",
    "        sum1 += l[i]**(i+1)\n",
    "\n",
    "    if sum1 == n:\n",
    "        return True\n",
    "    else:\n",
    "        return False\n",
    "    \n",
    "print(is_disarium(75))\n",
    "print(is_disarium(135))\n",
    "print(is_disarium(544))\n",
    "print(is_disarium(518))\n",
    "print(is_disarium(466))\n",
    "print(is_disarium(8))"
   ]
  }
 ],
 "metadata": {
  "kernelspec": {
   "display_name": "Python 3",
   "language": "python",
   "name": "python3"
  },
  "language_info": {
   "codemirror_mode": {
    "name": "ipython",
    "version": 3
   },
   "file_extension": ".py",
   "mimetype": "text/x-python",
   "name": "python",
   "nbconvert_exporter": "python",
   "pygments_lexer": "ipython3",
   "version": "3.8.8"
  }
 },
 "nbformat": 4,
 "nbformat_minor": 5
}
