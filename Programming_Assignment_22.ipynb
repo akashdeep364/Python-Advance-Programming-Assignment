{
 "cells": [
  {
   "cell_type": "markdown",
   "id": "e6de9c3b",
   "metadata": {},
   "source": [
    "# 1. Create a class Smoothie and do the following:\n",
    "- Create an instance attribute called ingredients.\n",
    "- Create a get_cost method which calculates the total cost of the\n",
    "ingredients used to make the smoothie.\n",
    "- Create a get_price method which returns the number from get_cost plus\n",
    "the number from get_cost multiplied by 1.5. Round to two decimal places.\n",
    "- Create a get_name method which gets the ingredients and puts them in\n",
    "alphabetical order into a nice descriptive sentence. If there are multiple\n",
    "ingredients, add the word &quot;Fusion&quot; to the end but otherwise, add &quot;Smoothie&quot;.\n",
    "Remember to change &quot;-berries&quot; to &quot;-berry&quot;. See the examples below.\n",
    "Ingredient Price\n",
    "Strawberries $1.50\n",
    "Banana $0.50\n",
    "Mango $2.50\n",
    "Blueberries $1.00\n",
    "Raspberries $1.00\n",
    "Apple $1.75\n",
    "Pineapple $3.50\n",
    "Examples\n",
    "s1 = Smoothie([&quot;Banana&quot;])\n",
    "s1.ingredients ➞ [&quot;Banana&quot;]\n",
    "s1.get_cost() ➞ &quot;$0.50&quot;\n",
    "s1.get_price() ➞ &quot;$1.25&quot;\n",
    "s1.get_name() ➞ &quot;Banana Smoothie&quot;\n",
    "s2 = Smoothie([&quot;Raspberries&quot;, &quot;Strawberries&quot;, &quot;Blueberries&quot;])\n",
    "s2.ingredients ➞ [&quot;Raspberries&quot;, &quot;Strawberries&quot;, &quot;Blueberries&quot;]\n",
    "s2.get_cost() ➞ &quot;$3.50&quot;\n",
    "s2.get_price() ➞ &quot;$8.75&quot;\n",
    "s2.get_name() ➞ &quot;Blueberry Raspberry Strawberry Fusion&quot;"
   ]
  },
  {
   "cell_type": "code",
   "execution_count": 5,
   "id": "28e38923",
   "metadata": {},
   "outputs": [
    {
     "name": "stdout",
     "output_type": "stream",
     "text": [
      "['Banana']\n",
      "$0.50\n",
      "$1.25\n",
      "Banana Fusion\n",
      "['Raspberries', 'Strawberries', 'Blueberries']\n",
      "$3.50\n",
      "$8.75\n",
      "Blueberry Raspberry Strawberry  Fusion\n"
     ]
    }
   ],
   "source": [
    "# Ans : \n",
    "class Smoothie():\n",
    "    def __init__(self, ingredients):\n",
    "        self.ingredients = ingredients\n",
    "        \n",
    "    def get_cost(self):\n",
    "        cost = {\"Strawberries\": 1.50,\"Banana\":0.50,\"Mango\":2.50,\n",
    "                \"Blueberries\":1.00,\"Raspberries\":1.00,\"Apple1\":.75,\n",
    "                \"Pineapple\":3.50}\n",
    "        self.total_cost = 0\n",
    "        for i in self.ingredients:\n",
    "            self.total_cost += cost.get(i)\n",
    "            \n",
    "        return (\"$\"+ str('%.2f'%self.total_cost))\n",
    "    \n",
    "    def get_price(self):\n",
    "        x = (1.5*self.total_cost)+self.total_cost\n",
    "        \n",
    "        return \"$\"+str(round(x,2))\n",
    "    \n",
    "    def get_name(self):\n",
    "        res = \"\"\n",
    "        for i in sorted(self.ingredients):\n",
    "            if i[-1] == \"s\":\n",
    "                res =  res +  i[:-3]+\"y \"\n",
    "            else:\n",
    "                res = res + i\n",
    "        if len(res) == 1:\n",
    "            return res+\" Smoothie\"\n",
    "        else:\n",
    "            return res +\" Fusion\"\n",
    "        \n",
    "        return res\n",
    "    \n",
    "s1 = Smoothie([\"Banana\"])\n",
    "print(s1.ingredients)\n",
    "print(s1.get_cost())\n",
    "print(s1.get_price())\n",
    "print(s1.get_name())\n",
    "s2 = Smoothie([\"Raspberries\", \"Strawberries\", \"Blueberries\"])\n",
    "print(s2.ingredients)\n",
    "print(s2.get_cost())\n",
    "print(s2.get_price())\n",
    "print(s2.get_name())"
   ]
  },
  {
   "cell_type": "markdown",
   "id": "692441fd",
   "metadata": {},
   "source": [
    "# 2. Your task is to write a program which allows teachers to create a multiple choice test in a class called Testpaper and to be also able to assign a minimum pass mark. The testpaper&#39;s subject should also be included. The attributes are in the following order:\n",
    "1. subject\n",
    "2. markscheme\n",
    "3. pass_mark\n",
    "As well as that, we need to create student objects to take the test itself!\n",
    "Create another class called Student and do the following:\n",
    "- Create an attribute called tests_taken and set the default as &#39;No tests\n",
    "taken&#39;.\n",
    "- Make a method called take_test(), which takes in the testpaper object they\n",
    "are completing and the student&#39;s answers. Compare what they wrote to the\n",
    "mark scheme, and append to the/create a dictionary assigned to tests_taken\n",
    "in the way as shown in the point below.\n",
    "- Each key in the dictionary should be the testpaper subject and each value\n",
    "should be a string in the format seen in the examples below (whether or not\n",
    "the student has failed, and their percentage in brackets).\n",
    "Examples\n",
    "paper1 = Testpaper(&quot;Maths&quot;, [&quot;1A&quot;, &quot;2C&quot;, &quot;3D&quot;, &quot;4A&quot;, &quot;5A&quot;], &quot;60%&quot;)\n",
    "paper2 = Testpaper(&quot;Chemistry&quot;, [&quot;1C&quot;, &quot;2C&quot;, &quot;3D&quot;, &quot;4A&quot;], &quot;75%&quot;)\n",
    "paper3 = Testpaper(&quot;Computing&quot;, [&quot;1D&quot;, &quot;2C&quot;, &quot;3C&quot;, &quot;4B&quot;, &quot;5D&quot;, &quot;6C&quot;, &quot;7A&quot;],\n",
    "&quot;75%&quot;)\n",
    "student1 = Student()\n",
    "student2 = Student()\n",
    "student1.tests_taken ➞ &quot;No tests taken&quot;\n",
    "student1.take_test(paper1, [&quot;1A&quot;, &quot;2D&quot;, &quot;3D&quot;, &quot;4A&quot;, &quot;5A&quot;])\n",
    "student1.tests_taken ➞ {&quot;Maths&quot; : &quot;Passed! (80%)&quot;}\n",
    "student2.take_test(paper2, [&quot;1C&quot;, &quot;2D&quot;, &quot;3A&quot;, &quot;4C&quot;])\n",
    "student2.take_test(paper3, [&quot;1A&quot;, &quot;2C&quot;, &quot;3A&quot;, &quot;4C&quot;, &quot;5D&quot;, &quot;6C&quot;, &quot;7B&quot;])\n",
    "student2.tests_taken ➞ {&quot;Chemistry&quot; : &quot;Failed! (25%)&quot;, &quot;Computing&quot; : &quot;Failed!\n",
    "(43%)&quot;}"
   ]
  },
  {
   "cell_type": "code",
   "execution_count": 6,
   "id": "942a122e",
   "metadata": {},
   "outputs": [
    {
     "name": "stdout",
     "output_type": "stream",
     "text": [
      "{}\n",
      "{'Maths': 'Passed!(80%)'}\n",
      "{'Chemistry': 'Failed!(25%)', 'Computing': 'Failed!(43%)'}\n"
     ]
    }
   ],
   "source": [
    "# Ans : \n",
    "import math\n",
    "class Testpaper():\n",
    "    def __init__(self, subject , markscheme, pass_mark):\n",
    "        self.subject = subject\n",
    "        self.markscheme = markscheme\n",
    "        self.pass_mark = pass_mark\n",
    "\n",
    "class Student(Testpaper):\n",
    "    def __init__(self):\n",
    "        self.tests_taken = {}\n",
    "        \n",
    "    def take_test(self, paper, stud_answer):\n",
    "        x = len(paper.markscheme)\n",
    "        count = 0\n",
    "        for i in range(x):\n",
    "            if paper.markscheme[i] == stud_answer[i]:\n",
    "                count+=1\n",
    "        percent = ((count/x)*100)\n",
    "        if int(paper.pass_mark[:-1]) <= percent:\n",
    "            self.tests_taken[paper.subject] = \"Passed!\"+ \"(\"+ str(math.ceil(percent))+\"%)\"\n",
    "        else:\n",
    "            self.tests_taken[paper.subject] = \"Failed!\"+ \"(\"+ str(math.ceil(percent))+\"%)\"\n",
    "\n",
    "        return self.tests_taken\n",
    "\n",
    "paper1 = Testpaper(\"Maths\", [\"1A\", \"2C\", \"3D\", \"4A\", \"5A\"], \"60%\")\n",
    "paper2 = Testpaper(\"Chemistry\", [\"1C\", \"2C\", \"3D\", \"4A\"], \"75%\")\n",
    "paper3 = Testpaper(\"Computing\", [\"1D\", \"2C\", \"3C\", \"4B\", \"5D\", \"6C\", \"7A\"], \"75%\")\n",
    "\n",
    "student1 = Student()\n",
    "student2 = Student()\n",
    "\n",
    "print(student1.tests_taken) \n",
    "student1.take_test(paper1, [\"1A\", \"2D\", \"3D\", \"4A\", \"5A\"])\n",
    "print(student1.tests_taken)\n",
    "student2.take_test(paper2, [\"1C\", \"2D\", \"3A\", \"4C\"])\n",
    "student2.take_test(paper3, [\"1A\", \"2C\", \"3A\", \"4C\", \"5D\", \"6C\", \"7B\"])\n",
    "print(student2.tests_taken )"
   ]
  },
  {
   "cell_type": "markdown",
   "id": "43f4469c",
   "metadata": {},
   "source": [
    "# 3. Due to unforseen circumstances in Suburbia, the trains will be delayed by a further 10 minutes. Create a function that will help to plan out and manage these delays! Create a function called manage_delays that does the following:\n",
    "- Parameters will be the train object, a destination and number of minutes\n",
    "the delay is.\n",
    "- Increment to the train object&#39;s expected_time by the delay, if the\n",
    "destination given is in the train object&#39;s destinations.\n",
    "Examples\n",
    "trains = [\n",
    "Train([&quot;Townsville&quot;, &quot;Suburbia&quot;, &quot;Urbantska&quot;], &quot;13:04&quot;),\n",
    "Train([&quot;Farmsdale&quot;, &quot;Suburbia&quot;, &quot;Lakeside Valley&quot;], &quot;13:20&quot;),\n",
    "Train([&quot;Suburbia&quot;, &quot;Townsville&quot;, &quot;Lakeside Valley&quot;], &quot;13:22&quot;)\n",
    "]\n",
    "for t in trains:\n",
    "manage_delays(t, &quot;Lakeside Valley&quot;, 60)\n",
    "trains[0].expected_time ➞ &quot;13:04&quot;\n",
    "trains[1].expected_time ➞ &quot;14:20&quot;\n",
    "trains[2].expected_time ➞ &quot;14:22&quot;"
   ]
  },
  {
   "cell_type": "code",
   "execution_count": 7,
   "id": "92466cea",
   "metadata": {},
   "outputs": [
    {
     "name": "stdout",
     "output_type": "stream",
     "text": [
      "13:04\n",
      "14:20\n",
      "14:22\n"
     ]
    }
   ],
   "source": [
    "# Ans : \n",
    "import datetime\n",
    "def manage_delays(t, destination, delay):\n",
    "    if destination in t.stations:\n",
    "        delay_time = datetime.datetime.strptime(t.arrival, \"%H:%M\") + datetime.timedelta(minutes = delay)\n",
    "        x = str(delay_time.time())\n",
    "        t.expected_time = x[:-3]\n",
    "        return t.expected_time\n",
    "        \n",
    "\n",
    "class Train:\n",
    "    def __init__(self, stations, arrival):\n",
    "        self.stations = stations\n",
    "        self.arrival = arrival\n",
    "        self.expected_time = arrival\n",
    "        \n",
    "        \n",
    "    \n",
    "trains = [Train([\"Townsville\", \"Suburbia\", \"Urbantska\"], \"13:04\"),\n",
    "  Train([\"Farmsdale\", \"Suburbia\", \"Lakeside Valley\"], \"13:20\"),\n",
    "  Train([\"Suburbia\", \"Townsville\", \"Lakeside Valley\"], \"13:22\")]\n",
    "    \n",
    "for t in trains:\n",
    "    manage_delays(t, \"Lakeside Valley\", 60)\n",
    "\n",
    "print(trains[0].expected_time)\n",
    "print(trains[1].expected_time)\n",
    "print(trains[2].expected_time )"
   ]
  },
  {
   "cell_type": "markdown",
   "id": "d8e6d235",
   "metadata": {},
   "source": [
    "# 4. Ted works as a computer programmer at Minecraft Inc. His boss has just given him an important assignment to update the code for the minecart tracks by the end of April. However, he has recently had to self-isolate due to Corvid-19 and has left the code for the tracks BACK AT WORK!! He has the shorthand for the tracks he&#39;s supposed to look at, and where the carts are suppost to end up, but not the actual code.\n",
    "He knows that:\n",
    "1. &quot;--&gt;&quot; = &quot;Speed-Up Track&quot; ⁠— If a minecart interacts with this track, it&#39;s\n",
    "velocity increases by 2.67 BPS unless it&#39;s at its maximum speed of 8 BPS.\n",
    "2. &quot;&lt;--&gt;&quot; = &quot;Powered Track&quot; ⁠— If a minecart interacts with this track, it&#39;s\n",
    "velocity remains the same.\n",
    "3. &quot;&lt;--&quot; = &quot;Slow-Down Track&quot; ⁠— If a minecart interacts with this track, it&#39;s\n",
    "velocity decreases by 2.67 BPS unless it&#39;s velocity equals 0, at which point it\n",
    "stops.\n",
    "4. &quot;---&quot; = &quot;Unpowered Track&quot; ⁠— If a minecart interacts with this track, it&#39;s\n",
    "velocity decreases by 1 BPS unless it&#39;s velocity equals 0, at which point it\n",
    "stops.\n",
    "\n",
    "Help Ted by writing a class for the tracks that interact with the provided\n",
    "Minecart class as shown above. And then write a function that will take a list\n",
    "of the shorthand tracks and:\n",
    "- If the Minecart reaches the last peice of Track, return True.\n",
    "- Else return the index of the Track where the Minecart stops.\n",
    "Examples\n",
    "mine_run([&quot;--&gt;&quot;, &quot;--&gt;&quot;, &quot;--&gt;&quot;, &quot;&lt;--&quot;, &quot;&lt;--&quot;, &quot;&lt;--&quot;]) ➞ True\n",
    "mine_run([&quot;--&gt;&quot;, &quot;&lt;--&quot;, &quot;--&gt;&quot;, &quot;--&gt;&quot;, &quot;&lt;--&gt;&quot;, &quot;---&quot;]) ➞ 1"
   ]
  },
  {
   "cell_type": "code",
   "execution_count": 8,
   "id": "53298fea",
   "metadata": {},
   "outputs": [
    {
     "name": "stdout",
     "output_type": "stream",
     "text": [
      "True\n",
      "1\n"
     ]
    }
   ],
   "source": [
    "# Ans : \n",
    "def mine_run(lst_track):\n",
    "    right = \"-->\"\n",
    "    left = \"<--\"\n",
    "    count_right = 0\n",
    "    count_left = 0\n",
    "    for i in lst_track:\n",
    "        if i == right:\n",
    "            count_right += 1\n",
    "        elif i == left:\n",
    "            count_left += 1\n",
    "    if count_left == count_right:\n",
    "        return print(True)\n",
    "    else:\n",
    "        return print(count_right - count_left-1)\n",
    "    \n",
    "\n",
    "mine_run([\"-->\", \"-->\", \"-->\", \"<--\", \"<--\", \"<--\"]) \n",
    "mine_run([\"-->\", \"<--\", \"-->\", \"-->\", \"<-->\", \"---\"])"
   ]
  },
  {
   "cell_type": "markdown",
   "id": "a00e741a",
   "metadata": {},
   "source": [
    "# 5. Make a Rectangle class with four parameters, an x, a y (representing the top-left corner of the rectangle), a width and a height exclusively in that order. Lastly, make a function intersecting that takes two Rectangle objects and returns True if those objects are intersecting (colliding), else return False.\n",
    "Examples\n",
    "a = Rectangle(10, 20, 100, 20)\n",
    "b = Rectangle(10, 40, 15, 20)\n",
    "c = Rectangle(50, 50, 20, 30)\n",
    "intersecting(a, b) ➞ True\n",
    "intersecting(a, c) ➞ False\n",
    "intersecting(b, c) ➞ True"
   ]
  },
  {
   "cell_type": "code",
   "execution_count": 9,
   "id": "f9d3cbc8",
   "metadata": {},
   "outputs": [
    {
     "name": "stdout",
     "output_type": "stream",
     "text": [
      "True\n",
      "False\n",
      "True\n"
     ]
    }
   ],
   "source": [
    "# Ans : \n",
    "def intersecting(rectangle1, rectangle2):\n",
    "    if (rectangle2.y-rectangle1.y == rectangle1.height) or (rectangle2.y-rectangle1.y + rectangle1.height == rectangle2.height):\n",
    "        return print(True)\n",
    "    else:\n",
    "        return print(False)\n",
    "\n",
    "class Rectangle:\n",
    "    def __init__(self, x, y, width, height):\n",
    "        self.x = x\n",
    "        self.y = y\n",
    "        self.width = width\n",
    "        self.height = height\n",
    "\n",
    "a = Rectangle(10, 20, 100, 20)\n",
    "b = Rectangle(10, 40, 15, 20)\n",
    "c = Rectangle(50, 50, 20, 30)\n",
    "intersecting(a, b)\n",
    "intersecting(a, c)\n",
    "intersecting(b, c)"
   ]
  }
 ],
 "metadata": {
  "kernelspec": {
   "display_name": "Python 3 (ipykernel)",
   "language": "python",
   "name": "python3"
  },
  "language_info": {
   "codemirror_mode": {
    "name": "ipython",
    "version": 3
   },
   "file_extension": ".py",
   "mimetype": "text/x-python",
   "name": "python",
   "nbconvert_exporter": "python",
   "pygments_lexer": "ipython3",
   "version": "3.9.7"
  }
 },
 "nbformat": 4,
 "nbformat_minor": 5
}
